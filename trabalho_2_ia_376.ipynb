{
 "cells": [
  {
   "cell_type": "markdown",
   "id": "57ddf6b5-e940-4f1b-92c6-16c083e09b7a",
   "metadata": {},
   "source": [
    "# Bibliotecas"
   ]
  },
  {
   "cell_type": "code",
   "execution_count": null,
   "id": "843a1a66-a7ff-4684-95af-fd9707994a38",
   "metadata": {},
   "outputs": [],
   "source": [
    "# Caminhos\n",
    "import utilitarios.caminhos as caminho\n",
    "\n",
    "# Download dados\n",
    "from utilitarios.download_dos_dados import download_dados\n",
    "\n",
    "# Regressão linear\n",
    "from utilitarios.modelo_regressao import regressao_linear, predicao_regressao\n",
    "\n",
    "# Rede neural\n",
    "from utilitarios.modelo_rede_neural import rede_neural, predicao_rede_neural\n",
    "\n",
    "# Gerar imagens\n",
    "from utilitarios.gerar_imagens import histograma, grafico_regressao_univariada, histograma_dos_erros, grafico_3d_multiplos_angulos\n",
    "\n",
    "# Transformações dados\n",
    "from utilitarios.transformacoes_dados import normalizacao, desnormalizar\n",
    "\n",
    "# Funções estatisticas\n",
    "from utilitarios.estatisticas import calcular_r_quadrado, criar_tabela, para_dataframe\n",
    "\n",
    "# Outros\n",
    "from pathlib import Path\n",
    "from random import sample, seed, random\n",
    "seed(2025)"
   ]
  },
  {
   "cell_type": "markdown",
   "id": "ba155453-4a64-46d1-a3fa-0abb64bc3184",
   "metadata": {},
   "source": [
    "# Dados"
   ]
  },
  {
   "cell_type": "markdown",
   "id": "5a52c760-7554-404c-87b3-bd49e89ab8f7",
   "metadata": {},
   "source": [
    "## Baixando dados"
   ]
  },
  {
   "cell_type": "code",
   "execution_count": null,
   "id": "acf8b6b9-468a-49b0-800e-17cf378f3988",
   "metadata": {},
   "outputs": [],
   "source": [
    "dados = download_dados()\n",
    "dados = dados.rename(columns = {\"soc_can\":\"soc\",\n",
    "                                \"soh_can\":\"soh\"})\n",
    "\n",
    "colunas_dados:list = dados.columns\n",
    "print(f\"Quantidade de dados: {len(dados)}\")\n",
    "dados.head(5)"
   ]
  },
  {
   "cell_type": "markdown",
   "id": "f7936e8a-994d-4501-a32f-53f0619497b2",
   "metadata": {},
   "source": [
    "## Estatísticas descritivas"
   ]
  },
  {
   "cell_type": "code",
   "execution_count": null,
   "id": "4ddce72d-432c-493c-b757-ba5665c6f26c",
   "metadata": {},
   "outputs": [],
   "source": [
    "dados.describe().to_csv(Path(caminho.tabelas, \"resumo_descritivo.csv\"))\n",
    "dados.describe()"
   ]
  },
  {
   "cell_type": "markdown",
   "id": "3524259f-2594-4d52-b0ff-c8d3e9281b14",
   "metadata": {},
   "source": [
    "## Separando dados em treino e teste"
   ]
  },
  {
   "cell_type": "code",
   "execution_count": null,
   "id": "c6ceb385-847f-4030-90ed-fd93614e899e",
   "metadata": {},
   "outputs": [],
   "source": [
    "proporcao_treino:float = 0.8\n",
    "proporcao_teste:float = 1 - proporcao_treino\n",
    "\n",
    "amostras_treino:int = int(proporcao_treino*len(dados))\n",
    "amostras_teste:int = len(dados) - amostras_treino\n",
    "\n",
    "lista_amostras_treino:list = sample(range(amostras_treino), amostras_treino)\n",
    "\n",
    "dados_treino = dados.iloc[lista_amostras_treino].iloc[:2000]\n",
    "dados_teste = dados.drop(index=lista_amostras_treino).sort_index().iloc[:1000]\n",
    "\n",
    "print(f\"Total de amostras de treino: {amostras_treino}\\nTotal de amostras de teste: {amostras_teste}\")"
   ]
  },
  {
   "cell_type": "markdown",
   "id": "af83adba-9684-4166-9730-f3bf8d5edc53",
   "metadata": {},
   "source": [
    "## Parâmetros globais dos dados"
   ]
  },
  {
   "cell_type": "code",
   "execution_count": null,
   "id": "ffda5106-6830-4fb7-9a83-e1e898840841",
   "metadata": {},
   "outputs": [],
   "source": [
    "media_dados_treino:dict = {}\n",
    "desvio_padrao_dados_treino:dict = {}\n",
    "\n",
    "for coluna in dados_treino.columns:\n",
    "    media_dados_treino[coluna] = dados_treino[coluna].mean()\n",
    "    desvio_padrao_dados_treino[coluna] = dados_treino[coluna].std()\n",
    "\n",
    "\n",
    "media_dados_teste:dict = {}\n",
    "desvio_padrao_dados_teste:dict = {}\n",
    "\n",
    "for coluna in dados_teste.columns:\n",
    "    media_dados_teste[coluna] = dados_teste[coluna].mean()\n",
    "    desvio_padrao_dados_teste[coluna] = dados_teste[coluna].std()"
   ]
  },
  {
   "cell_type": "markdown",
   "id": "8106a7a1-4070-4ee7-b508-e7d1eed50c45",
   "metadata": {},
   "source": [
    "## Distribuição dos dados"
   ]
  },
  {
   "cell_type": "code",
   "execution_count": null,
   "id": "be557aa5-f354-45f2-95c9-3645a10625c3",
   "metadata": {},
   "outputs": [],
   "source": [
    "for coluna in colunas_dados:\n",
    "    histograma(dados = dados, coluna = coluna,\n",
    "               salvar_em = Path(caminho.imagens_dados, f\"distribuicao_dos_dados_de_{coluna}.png\"),\n",
    "               bins = 16)"
   ]
  },
  {
   "cell_type": "markdown",
   "id": "486964fd-3d77-4c88-b1b1-e231f6dad5b4",
   "metadata": {},
   "source": [
    "# Parâmetros para regressões"
   ]
  },
  {
   "cell_type": "code",
   "execution_count": null,
   "id": "b7e4d41c-79a5-4ab5-a7ed-0498231559b5",
   "metadata": {},
   "outputs": [],
   "source": [
    "regressao_univariada:list = [{\"X\":[\"voltage\"], \"y\":\"power\"},\n",
    "                             {\"X\":[\"current\"], \"y\":\"power\"},\n",
    "                             {\"X\":[\"speed\"], \"y\":\"power\"},\n",
    "                             {\"X\":[\"latitude\"], \"y\":\"power\"},\n",
    "                             {\"X\":[\"longitude\"], \"y\":\"power\"},\n",
    "                             {\"X\":[\"soc\"], \"y\":\"power\"},]\n",
    "\n",
    "regressao_multivariada:list = [{\"X\":[\"current\", \"voltage\", \"speed\"] , \"y\":\"power\"},\n",
    "                               {\"X\":[\"current\", \"speed\"] , \"y\":\"power\"},\n",
    "                               {\"X\":[\"latitude\", \"longitude\", \"speed\"] , \"y\":\"power\"},\n",
    "                               {\"X\":[\"latitude\", \"longitude\"] , \"y\":\"power\"},\n",
    "                               {\"X\":[\"latitude\", \"speed\"] , \"y\":\"power\"},\n",
    "                               {\"X\":[\"longitude\", \"speed\"] , \"y\":\"power\"},\n",
    "                               {\"X\":[\"voltage\", \"latitude\", \"longitude\", \"speed\"] , \"y\":\"power\"}]\n",
    "\n",
    "globais:dict = {}\n",
    "\n",
    "criar_tabela(regressao_univariada, nome = \"regressoes_univariadas.csv\")\n",
    "criar_tabela(regressao_multivariada, nome = \"regressoes_multivariadas.csv\")"
   ]
  },
  {
   "cell_type": "markdown",
   "id": "1dc46975-1554-4532-8763-1e708521b59e",
   "metadata": {},
   "source": [
    "# Regressão Linear clássica"
   ]
  },
  {
   "cell_type": "markdown",
   "id": "f0208586-9734-4f7e-8938-0bf7727200f5",
   "metadata": {},
   "source": [
    "## Univariada"
   ]
  },
  {
   "cell_type": "code",
   "execution_count": null,
   "id": "4c685955-a44e-4d0a-95a3-6760360386c6",
   "metadata": {},
   "outputs": [],
   "source": [
    "for index, parametros in enumerate(regressao_univariada):\n",
    "    regressao_univariada[index][\"modelo_regressao\"] = regressao_linear(dados = dados_treino, \n",
    "                                                                       X = parametros[\"X\"], \n",
    "                                                                       y = parametros[\"y\"])\n",
    "\n",
    "    regressao_univariada[index][\"y_treino_regressao\"] = predicao_regressao(dados = dados_treino,\n",
    "                                                                           modelo = parametros[\"modelo_regressao\"],\n",
    "                                                                           X = parametros[\"X\"])\n",
    "\n",
    "    residuos = regressao_univariada[index][\"modelo_regressao\"].resid\n",
    "    mse = (residuos**2).mean()\n",
    "    regressao_univariada[index][\"mse_regressao\"] = mse\n",
    "\n",
    "    grafico_regressao_univariada(dados = dados_treino,\n",
    "                                 X = parametros[\"X\"],\n",
    "                                 y = parametros[\"y\"],\n",
    "                                 real_y = regressao_univariada[index][\"y_treino_regressao\"],\n",
    "                                 salvar_em = Path(caminho.imagens_regressao_previsao, f\"dados_treino_{parametros[\"X\"][0]}_{parametros[\"y\"]}\"))"
   ]
  },
  {
   "cell_type": "markdown",
   "id": "78fcbef3-cf11-4215-89c9-318448d57736",
   "metadata": {},
   "source": [
    "## Multivariada"
   ]
  },
  {
   "cell_type": "code",
   "execution_count": null,
   "id": "18fa0741-18c8-47d7-81f5-76a8f85331af",
   "metadata": {},
   "outputs": [],
   "source": [
    "for index, parametros in enumerate(regressao_multivariada):\n",
    "    regressao_multivariada[index][\"modelo_regressao\"] = regressao_linear(dados = dados_treino, \n",
    "                                                                         X = parametros[\"X\"], \n",
    "                                                                         y = parametros[\"y\"])\n",
    "\n",
    "    residuos = regressao_multivariada[index][\"modelo_regressao\"].resid\n",
    "    mse = (residuos**2).mean()\n",
    "    regressao_multivariada[index][\"mse_regressao\"] = mse"
   ]
  },
  {
   "cell_type": "markdown",
   "id": "bb7f6b6b-c5fc-44e8-b592-2eda6aaf176c",
   "metadata": {},
   "source": [
    "# Redes neurais"
   ]
  },
  {
   "cell_type": "markdown",
   "id": "08a079fd-0493-48a1-a887-89ce5b840451",
   "metadata": {},
   "source": [
    "## Univariada"
   ]
  },
  {
   "cell_type": "code",
   "execution_count": null,
   "id": "58318112-f738-4275-9d52-830523e99868",
   "metadata": {},
   "outputs": [],
   "source": [
    "for index, parametros in enumerate(regressao_univariada):\n",
    "    print(f\"\\rTreinando rede {index}/{len(regressao_univariada)}\", end = \"\")\n",
    "    regressao_univariada[index][\"modelo_rede_neural\"] = rede_neural(dados = normalizacao(dados_treino,\n",
    "                                                                                         media = media_dados_treino,\n",
    "                                                                                         desvio_padrao = desvio_padrao_dados_treino), \n",
    "                                                                    X = parametros[\"X\"], \n",
    "                                                                    y = parametros[\"y\"])\n",
    "\n",
    "    regressao_univariada[index][\"y_treino_rede_neural\"] = predicao_rede_neural(dados = normalizacao(dados_treino,\n",
    "                                                                                                    media = media_dados_treino,\n",
    "                                                                                                    desvio_padrao = desvio_padrao_dados_treino), \n",
    "                                                                               modelo = parametros[\"modelo_rede_neural\"], \n",
    "                                                                               X = parametros[\"X\"])\n",
    "\n",
    "    regressao_univariada[index][\"y_treino_rede_neural\"] = desnormalizar(regressao_univariada[index][\"y_treino_rede_neural\"],\n",
    "                                                                        media = media_dados_treino[parametros[\"y\"]],\n",
    "                                                                        desvio_padrao = desvio_padrao_dados_treino[parametros[\"y\"]])\n",
    "\n",
    "    regressao_univariada[index][\"mse_rede_neural\"] = 1/len(dados_treino[parametros[\"y\"]]) * float(sum([(real - estimado)**2 for real, estimado in zip(dados_treino[parametros[\"y\"]], regressao_univariada[index][\"y_treino_rede_neural\"])]))\n",
    "\n",
    "    grafico_regressao_univariada(dados = dados_treino,\n",
    "                                 X = parametros[\"X\"],\n",
    "                                 y = parametros[\"y\"],\n",
    "                                 real_y = regressao_univariada[index][\"y_treino_rede_neural\"],\n",
    "                                 salvar_em = Path(caminho.imagens_rede_neural_previsao, f\"dados_treino_{parametros[\"X\"][0]}_{parametros[\"y\"]}\"))\n",
    "\n",
    "\n",
    "print(f\"\\rTreinando rede {len(regressao_univariada)}/{len(regressao_univariada)}\")"
   ]
  },
  {
   "cell_type": "markdown",
   "id": "c8b46fc4-be50-443a-9354-c16ae9d6b6c7",
   "metadata": {},
   "source": [
    "## Multivariada"
   ]
  },
  {
   "cell_type": "code",
   "execution_count": null,
   "id": "d3e28a0f-ba9b-48b9-8df0-475c3b0afde2",
   "metadata": {},
   "outputs": [],
   "source": [
    "for index, parametros in enumerate(regressao_multivariada):\n",
    "    print(f\"\\rTreinando rede {index}/{len(regressao_multivariada)}\", end = \"\")\n",
    "    regressao_multivariada[index][\"modelo_rede_neural\"] = rede_neural(dados = normalizacao(dados_treino,\n",
    "                                                                                           media = media_dados_treino,\n",
    "                                                                                           desvio_padrao = desvio_padrao_dados_treino), \n",
    "                                                                      X = parametros[\"X\"], \n",
    "                                                                      y = parametros[\"y\"])\n",
    "\n",
    "    regressao_multivariada[index][\"y_treino_rede_neural\"] = predicao_rede_neural(dados = normalizacao(dados_treino,\n",
    "                                                                                                       media = media_dados_treino,\n",
    "                                                                                                       desvio_padrao = desvio_padrao_dados_treino), \n",
    "                                                                                  modelo = parametros[\"modelo_rede_neural\"],\n",
    "                                                                                  X = parametros[\"X\"])\n",
    "\n",
    "    regressao_multivariada[index][\"y_treino_rede_neural\"] = desnormalizar(regressao_multivariada[index][\"y_treino_rede_neural\"],\n",
    "                                                                           media = media_dados_treino[parametros[\"y\"]],\n",
    "                                                                           desvio_padrao = desvio_padrao_dados_treino[parametros[\"y\"]])\n",
    "\n",
    "    regressao_multivariada[index][\"mse_rede_neural\"] = 1/len(dados_treino[parametros[\"y\"]]) * float(sum([(real - estimado)**2 for real, estimado in zip(dados_treino[parametros[\"y\"]], regressao_multivariada[index][\"y_treino_rede_neural\"])]))\n",
    "\n",
    "\n",
    "    \n",
    "print(f\"\\rTreinando rede {len(regressao_multivariada)}/{len(regressao_multivariada)}\")"
   ]
  },
  {
   "cell_type": "markdown",
   "id": "b966b610-71b8-4cbc-9fb9-f20998c310a4",
   "metadata": {},
   "source": [
    "# Resultados"
   ]
  },
  {
   "cell_type": "markdown",
   "id": "0b3b64bc-1f05-4b31-b196-86668c06114f",
   "metadata": {},
   "source": [
    "## Imagens"
   ]
  },
  {
   "cell_type": "markdown",
   "id": "bdd4d644-d5dc-4784-b7f5-6a5a4afa486f",
   "metadata": {},
   "source": [
    "### Previsão Regressão Clássica"
   ]
  },
  {
   "cell_type": "code",
   "execution_count": null,
   "id": "b3c57b0b-7c01-449d-9f44-383d7bd908a6",
   "metadata": {},
   "outputs": [],
   "source": [
    "for index, parametros in enumerate(regressao_univariada):\n",
    "    regressao_univariada[index][\"y_predito_regressao\"] = predicao_regressao(dados = dados_teste, modelo = parametros[\"modelo_regressao\"], X = parametros[\"X\"])\n",
    "\n",
    "    grafico_regressao_univariada(dados = dados_teste,\n",
    "                                 X = parametros[\"X\"],\n",
    "                                 y = parametros[\"y\"],\n",
    "                                 real_y = regressao_univariada[index][\"y_predito_regressao\"],\n",
    "                                 salvar_em = Path(caminho.imagens_regressao_previsao, f\"dados_teste_{parametros['X'][0]}_{parametros['y']}\"))\n",
    "\n",
    "    regressao_univariada[index][\"erros_regressao\"] = [float(real - predito) for real, predito in zip(dados_teste[parametros[\"y\"]], regressao_univariada[index][\"y_predito_regressao\"])]\n",
    "    \n",
    "\n",
    "for index, parametros in enumerate(regressao_multivariada):\n",
    "    regressao_multivariada[index][\"y_predito_regressao\"] = predicao_regressao(dados = dados_teste,\n",
    "                                                                              modelo = parametros[\"modelo_regressao\"], \n",
    "                                                                              X = parametros[\"X\"])\n",
    "\n",
    "    regressao_multivariada[index][\"erros_regressao\"] = [float(real - predito) for real, predito in zip(dados_teste[parametros[\"y\"]], regressao_multivariada[index][\"y_predito_regressao\"])]"
   ]
  },
  {
   "cell_type": "markdown",
   "id": "e860aa6c-115a-4b96-bffd-31c4fb3369fd",
   "metadata": {},
   "source": [
    "### Previsão Redes Neurais"
   ]
  },
  {
   "cell_type": "code",
   "execution_count": null,
   "id": "7cedef44-323d-4c2b-afbf-b49357e471f4",
   "metadata": {},
   "outputs": [],
   "source": [
    "for index, parametros in enumerate(regressao_univariada):\n",
    "    regressao_univariada[index][\"y_predito_rede_neural\"] = predicao_rede_neural(dados = normalizacao(dados_teste,\n",
    "                                                                                                     media = media_dados_teste,\n",
    "                                                                                                     desvio_padrao = desvio_padrao_dados_teste), \n",
    "                                                                                modelo = parametros[\"modelo_rede_neural\"],\n",
    "                                                                                X = parametros[\"X\"])\n",
    "\n",
    "    regressao_univariada[index][\"y_predito_rede_neural\"] = desnormalizar(regressao_univariada[index][\"y_predito_rede_neural\"],\n",
    "                                                                         media = media_dados_teste[parametros[\"y\"]],\n",
    "                                                                         desvio_padrao = desvio_padrao_dados_teste[parametros[\"y\"]])\n",
    "\n",
    "    regressao_univariada[index][\"erros_rede_neural\"] = [float(real - predito) for real, predito in zip(dados_teste[parametros[\"y\"]], regressao_univariada[index][\"y_predito_rede_neural\"])]\n",
    "    \n",
    "    grafico_regressao_univariada(dados = dados_teste,\n",
    "                                 X = parametros[\"X\"],\n",
    "                                 y = parametros[\"y\"],\n",
    "                                 real_y = regressao_univariada[index][\"y_predito_rede_neural\"],\n",
    "                                 salvar_em = Path(caminho.imagens_rede_neural_previsao, f\"dados_teste_{parametros['X'][0]}_{parametros['y']}\"))\n",
    "\n",
    "\n",
    "for index, parametros in enumerate(regressao_multivariada):\n",
    "    regressao_multivariada[index][\"y_predito_rede_neural\"] = predicao_rede_neural(dados = normalizacao(dados_teste,\n",
    "                                                                                                       media = media_dados_teste,\n",
    "                                                                                                       desvio_padrao = desvio_padrao_dados_teste), \n",
    "                                                                                  modelo = parametros[\"modelo_rede_neural\"],\n",
    "                                                                                  X = parametros[\"X\"])\n",
    "\n",
    "    regressao_multivariada[index][\"y_predito_rede_neural\"] = desnormalizar(regressao_multivariada[index][\"y_predito_rede_neural\"],\n",
    "                                                                           media = media_dados_teste[parametros[\"y\"]],\n",
    "                                                                           desvio_padrao = desvio_padrao_dados_teste[parametros[\"y\"]])\n",
    "\n",
    "\n",
    "    regressao_multivariada[index][\"erros_rede_neural\"] = [float(real - predito) for real, predito in zip(dados_teste[parametros[\"y\"]], regressao_multivariada[index][\"y_predito_rede_neural\"])]"
   ]
  },
  {
   "cell_type": "markdown",
   "id": "3c6991e6-bbaa-4808-855f-cf9051f966a4",
   "metadata": {},
   "source": [
    "### Histograma dos erros para Regressão Clássica"
   ]
  },
  {
   "cell_type": "code",
   "execution_count": null,
   "id": "4dd07389-e775-4f88-a81a-b3749102281b",
   "metadata": {},
   "outputs": [],
   "source": [
    "for index, parametros in enumerate(regressao_univariada):\n",
    "    histograma_dos_erros(dados = regressao_univariada[index][\"erros_regressao\"],\n",
    "                             salvar_em = Path(caminho.imagens_regressao_histograma, f\"distribuicao_dos_erros_de_{'+'.join(parametros['X'])}_{parametros['y']}.png\"),\n",
    "                             nome_coluna = f\"f({', '.join(parametros['X'])}) -> {parametros['y']}\",\n",
    "                             bins = 24)\n",
    "\n",
    "\n",
    "for index, parametros in enumerate(regressao_multivariada):\n",
    "    histograma_dos_erros(dados = regressao_multivariada[index][\"erros_regressao\"],\n",
    "                         salvar_em = Path(caminho.imagens_regressao_histograma, f\"distribuicao_dos_erros_de_{'+'.join(parametros['X'])}_{parametros['y']}.png\"),\n",
    "                         nome_coluna = f\"f({', '.join(parametros['X'])}) -> {parametros['y']}\",\n",
    "                         bins = 24)"
   ]
  },
  {
   "cell_type": "markdown",
   "id": "da972c76-b4f4-4193-bdf5-9398f9fbc598",
   "metadata": {},
   "source": [
    "### Histograma dos erros para Redes Neurais"
   ]
  },
  {
   "cell_type": "code",
   "execution_count": null,
   "id": "60788c4e-5a5b-4269-abe1-402d2c3409d5",
   "metadata": {},
   "outputs": [],
   "source": [
    "for index, parametros in enumerate(regressao_univariada):\n",
    "    histograma_dos_erros(dados = regressao_univariada[index][\"erros_rede_neural\"],\n",
    "                         salvar_em = Path(caminho.imagens_rede_neural_histograma, f\"distribuicao_dos_erros_de_{'+'.join(parametros['X'])}_{parametros['y']}.png\"),\n",
    "                         nome_coluna = f\"f({', '.join(parametros['X'])}) -> {parametros['y']}\",\n",
    "                         bins = 24)\n",
    "\n",
    "\n",
    "for index, parametros in enumerate(regressao_multivariada):\n",
    "    histograma_dos_erros(dados = regressao_multivariada[index][\"erros_rede_neural\"],\n",
    "                         salvar_em = Path(caminho.imagens_rede_neural_histograma, f\"distribuicao_dos_erros_de_{'+'.join(parametros['X'])}_{parametros['y']}.png\"),\n",
    "                         nome_coluna = f\"f({', '.join(parametros['X'])}) -> {parametros['y']}\",\n",
    "                         bins = 24)"
   ]
  },
  {
   "cell_type": "markdown",
   "id": "fe63bcff-a241-4111-a9b8-b5da7e1cdc23",
   "metadata": {},
   "source": [
    "### Vizualização 3d"
   ]
  },
  {
   "cell_type": "code",
   "execution_count": null,
   "id": "0724a24b-27c5-47e6-8f7f-5f1758a1e5ee",
   "metadata": {
    "scrolled": true
   },
   "outputs": [],
   "source": [
    "grafico_3d_multiplos_angulos(dados = dados_treino, x = \"current\", y = \"speed\", z = \"power\")\n",
    "grafico_3d_multiplos_angulos(dados = dados_treino, x = \"latitude\", y = \"longitude\", z = \"power\")"
   ]
  },
  {
   "cell_type": "markdown",
   "id": "f57d0ba1-f190-49c3-b412-c7a907dba0e0",
   "metadata": {},
   "source": [
    "## Tabelas "
   ]
  },
  {
   "cell_type": "markdown",
   "id": "cdb06b8c-584d-4b40-aa4b-5b04e22a1c70",
   "metadata": {},
   "source": [
    "### $\\text{R}^2$"
   ]
  },
  {
   "cell_type": "code",
   "execution_count": null,
   "id": "270e76ce-7d46-428b-9a96-cc76292dac1c",
   "metadata": {},
   "outputs": [],
   "source": [
    "tabela = calcular_r_quadrado(dados = dados_treino,\n",
    "                             dicionario_memoria = regressao_univariada,\n",
    "                             nome_complementar = \"_univariada\")\n",
    "tabela"
   ]
  },
  {
   "cell_type": "code",
   "execution_count": null,
   "id": "031e7394-d27c-4543-a983-257378428a00",
   "metadata": {},
   "outputs": [],
   "source": [
    "tabela = calcular_r_quadrado(dados = dados_treino,\n",
    "                             dicionario_memoria = regressao_multivariada,\n",
    "                             nome_complementar = \"_multivariada\")\n",
    "tabela"
   ]
  },
  {
   "cell_type": "markdown",
   "id": "8e450bd4-d471-4d89-98b4-b450d5bbb299",
   "metadata": {},
   "source": [
    "# Exemplos Artificiais"
   ]
  },
  {
   "cell_type": "markdown",
   "id": "8c469909-ab77-4e26-b2d2-0a9dd420328c",
   "metadata": {},
   "source": [
    "## Exemplo 1"
   ]
  },
  {
   "cell_type": "code",
   "execution_count": null,
   "id": "e6ed3ce0-6e9d-4f45-8087-d3e5dad9b7f4",
   "metadata": {},
   "outputs": [],
   "source": [
    "modelos_artificiais:dict = {}"
   ]
  },
  {
   "cell_type": "code",
   "execution_count": null,
   "id": "3dfc4561-7c66-45d5-8d40-bcc01a08298b",
   "metadata": {},
   "outputs": [],
   "source": [
    "y:list = [0, 1, 2, 3, 4, 5, 5, 5, 5, 5, 6, 7, 8, 9, 10]\n",
    "X:list = [0, 0, 0, 0, 0, *[i for i in range(len(y))], 15, 15, 15, 15, 15]\n",
    "y:list = [0, 0, 0, 0, 0, *y, 10, 10, 10, 10, 10]\n",
    "tabela_teste = para_dataframe({\"X_r2_mse\":X*20,\n",
    "                               \"y_r2_mse\":y*20})\n",
    "\n",
    "\n",
    "for coluna in tabela_teste.columns: \n",
    "    for index in range(len(tabela_teste[coluna])):\n",
    "        tabela_teste[coluna].iloc[index] = (tabela_teste[coluna].iloc[index] + random()*1.2)\n",
    "    media, dp = tabela_teste[coluna].mean(), tabela_teste[coluna].std()\n",
    "    tabela_teste[coluna] = (tabela_teste[coluna] - media)/dp "
   ]
  },
  {
   "cell_type": "code",
   "execution_count": null,
   "id": "5d8a796e-c94d-4a1b-84e8-b90647bf0028",
   "metadata": {},
   "outputs": [],
   "source": [
    "modelos_artificiais[\"r2_mse_regressao\"] = {}\n",
    "\n",
    "modelos_artificiais[\"r2_mse_regressao\"][\"modelo\"] = regressao_linear(dados = tabela_teste, \n",
    "                                                                     X = [\"X_r2_mse\"], \n",
    "                                                                     y = \"y_r2_mse\")\n",
    "\n",
    "modelos_artificiais[\"r2_mse_regressao\"][\"y_treino\"] = predicao_regressao(dados = tabela_teste,\n",
    "                                                                         modelo = modelos_artificiais[\"r2_mse_regressao\"][\"modelo\"],\n",
    "                                                                         X = [\"X_r2_mse\"])\n",
    "\n",
    "residuos = modelos_artificiais[\"r2_mse_regressao\"][\"modelo\"].resid\n",
    "mse = (residuos**2).mean()\n",
    "modelos_artificiais[\"r2_mse_regressao\"][\"mse\"] = mse\n",
    "\n",
    "residuos = modelos_artificiais[\"r2_mse_regressao\"][\"modelo\"].resid\n",
    "\n",
    "grafico_regressao_univariada(dados = tabela_teste,\n",
    "                             X = [\"X_r2_mse\"],\n",
    "                             y = \"y_r2_mse\",\n",
    "                             real_y = modelos_artificiais[\"r2_mse_regressao\"][\"y_treino\"],\n",
    "                             salvar_em = Path(caminho.imagens_regressao_previsao, f\"dados_treino_X_r2_mse_y_r2_mse\"))"
   ]
  },
  {
   "cell_type": "code",
   "execution_count": null,
   "id": "67345603-9781-457a-8629-8601af367dcd",
   "metadata": {},
   "outputs": [],
   "source": [
    "modelos_artificiais[\"r2_mse_rede_neural\"] = {}\n",
    "\n",
    "modelos_artificiais[\"r2_mse_rede_neural\"][\"modelo\"] = rede_neural(dados = tabela_teste,\n",
    "                                                                  X = [\"X_r2_mse\"], \n",
    "                                                                  y = \"y_r2_mse\",\n",
    "                                                                  neuronios = 16)\n",
    "\n",
    "modelos_artificiais[\"r2_mse_rede_neural\"][\"y_treino\"] = predicao_rede_neural(dados = tabela_teste,\n",
    "                                                                             modelo = modelos_artificiais[\"r2_mse_rede_neural\"][\"modelo\"],\n",
    "                                                                             X = [\"X_r2_mse\"])\n",
    "\n",
    "modelos_artificiais[\"r2_mse_regressao\"][\"erros\"] = [(real - estimado)**2 for real, estimado in zip(tabela_teste[\"y_r2_mse\"], modelos_artificiais[\"r2_mse_rede_neural\"][\"y_treino\"])]\n",
    "\n",
    "modelos_artificiais[\"r2_mse_rede_neural\"][\"mse\"] = 1/len(tabela_teste[\"y_r2_mse\"]) * float(sum(modelos_artificiais[\"r2_mse_regressao\"][\"erros\"]))\n",
    "\n",
    "grafico_regressao_univariada(dados = tabela_teste,\n",
    "                             X = [\"X_r2_mse\"],\n",
    "                             y = \"y_r2_mse\",\n",
    "                             real_y = modelos_artificiais[\"r2_mse_rede_neural\"][\"y_treino\"],\n",
    "                             salvar_em = Path(caminho.imagens_rede_neural_previsao, f\"dados_treino_X_r2_mse_y_r2_mse\"))"
   ]
  },
  {
   "cell_type": "code",
   "execution_count": null,
   "id": "d31da65a-3dd7-4e19-97f4-7776a268239a",
   "metadata": {},
   "outputs": [],
   "source": [
    "media = tabela_teste[\"y_r2_mse\"].mean()\n",
    "\n",
    "modelos_artificiais[\"r2_mse_regressao\"][\"r^2\"] = 1 - sum([i*i for i in modelos_artificiais[\"r2_mse_regressao\"][\"modelo\"].resid])/sum([(real - media)*(real - media) for real in tabela_teste[\"y_r2_mse\"]])\n",
    "modelos_artificiais[\"r2_mse_rede_neural\"][\"r^2\"] = 1 - float(sum([i*i for i in modelos_artificiais[\"r2_mse_regressao\"][\"erros\"]])/sum([(real - media)*(real - media) for real in tabela_teste[\"y_r2_mse\"]]))\n",
    "\n",
    "print(f'Regressão linear:\\n\\tMSE: {modelos_artificiais[\"r2_mse_regressao\"][\"mse\"]:0.04f} | R^2: {modelos_artificiais[\"r2_mse_regressao\"][\"r^2\"]:0.04f}')\n",
    "print(f'Rede Neural:\\n\\tMSE: {modelos_artificiais[\"r2_mse_rede_neural\"][\"mse\"]:0.04f} {modelos_artificiais[\"r2_mse_rede_neural\"][\"r^2\"]:0.04f}')"
   ]
  },
  {
   "cell_type": "markdown",
   "id": "405d83b1-a1a5-4df0-9b4d-c4e1e87f6e63",
   "metadata": {},
   "source": [
    "## Exemplo 2"
   ]
  },
  {
   "cell_type": "code",
   "execution_count": null,
   "id": "21f3e52c-99e3-4b5a-804b-e77b4a9ab68a",
   "metadata": {},
   "outputs": [],
   "source": [
    "modelos_artificiais:dict = {}"
   ]
  },
  {
   "cell_type": "code",
   "execution_count": null,
   "id": "5b106238-cd77-4118-9987-2dabef400542",
   "metadata": {},
   "outputs": [],
   "source": [
    "y:list = [0, 1, 2, 3, 4, 5, 6, 5, 4, 3, 2 , 1]\n",
    "X:list = [i for i in range(len(y))]\n",
    "tabela_teste = para_dataframe({\"X\":X*20,\n",
    "                               \"y\":y*20})\n",
    "\n",
    "\n",
    "for coluna in tabela_teste.columns: \n",
    "    for index in range(len(tabela_teste[coluna])):\n",
    "        tabela_teste[coluna].iloc[index] = (tabela_teste[coluna].iloc[index] + random()*1.2)\n",
    "    media, dp = tabela_teste[coluna].mean(), tabela_teste[coluna].std()\n",
    "    tabela_teste[coluna] = (tabela_teste[coluna] - media)/dp "
   ]
  },
  {
   "cell_type": "code",
   "execution_count": null,
   "id": "5a048f89-7912-4156-a89d-bc80ecfc010f",
   "metadata": {},
   "outputs": [],
   "source": [
    "modelos_artificiais[\"r2_mse_regressao\"] = {}\n",
    "\n",
    "modelos_artificiais[\"r2_mse_regressao\"][\"modelo\"] = regressao_linear(dados = tabela_teste, \n",
    "                                                                     X = [\"X\"], \n",
    "                                                                     y = \"y\")\n",
    "\n",
    "modelos_artificiais[\"r2_mse_regressao\"][\"y_treino\"] = predicao_regressao(dados = tabela_teste,\n",
    "                                                                         modelo = modelos_artificiais[\"r2_mse_regressao\"][\"modelo\"],\n",
    "                                                                         X = [\"X\"])\n",
    "\n",
    "residuos = modelos_artificiais[\"r2_mse_regressao\"][\"modelo\"].resid\n",
    "mse = (residuos**2).mean()\n",
    "modelos_artificiais[\"r2_mse_regressao\"][\"mse\"] = mse\n",
    "\n",
    "residuos = modelos_artificiais[\"r2_mse_regressao\"][\"modelo\"].resid\n",
    "\n",
    "grafico_regressao_univariada(dados = tabela_teste,\n",
    "                             X = [\"X\"],\n",
    "                             y = \"y\",\n",
    "                             real_y = modelos_artificiais[\"r2_mse_regressao\"][\"y_treino\"],\n",
    "                             salvar_em = Path(caminho.imagens_regressao_previsao, f\"dados_treino_X_y\"))"
   ]
  },
  {
   "cell_type": "code",
   "execution_count": null,
   "id": "83f03fd8-262e-4233-a546-e49ce9604c50",
   "metadata": {},
   "outputs": [],
   "source": [
    "modelos_artificiais[\"r2_mse_rede_neural\"] = {}\n",
    "\n",
    "modelos_artificiais[\"r2_mse_rede_neural\"][\"modelo\"] = rede_neural(dados = tabela_teste,\n",
    "                                                                  X = [\"X\"], \n",
    "                                                                  y = \"y\",\n",
    "                                                                  neuronios = 2)\n",
    "\n",
    "modelos_artificiais[\"r2_mse_rede_neural\"][\"y_treino\"] = predicao_rede_neural(dados = tabela_teste,\n",
    "                                                                             modelo = modelos_artificiais[\"r2_mse_rede_neural\"][\"modelo\"],\n",
    "                                                                             X = [\"X\"])\n",
    "\n",
    "modelos_artificiais[\"r2_mse_regressao\"][\"erros\"] = [(real - estimado)**2 for real, estimado in zip(tabela_teste[\"y\"], modelos_artificiais[\"r2_mse_rede_neural\"][\"y_treino\"])]\n",
    "\n",
    "modelos_artificiais[\"r2_mse_rede_neural\"][\"mse\"] = 1/len(tabela_teste[\"y\"]) * float(sum(modelos_artificiais[\"r2_mse_regressao\"][\"erros\"]))\n",
    "\n",
    "grafico_regressao_univariada(dados = tabela_teste,\n",
    "                             X = [\"X\"],\n",
    "                             y = \"y\",\n",
    "                             real_y = modelos_artificiais[\"r2_mse_rede_neural\"][\"y_treino\"],\n",
    "                             salvar_em = Path(caminho.imagens_rede_neural_previsao, f\"dados_treino_X_y\"))"
   ]
  },
  {
   "cell_type": "code",
   "execution_count": null,
   "id": "21c2e4e7-76b5-40ce-9bd8-0f40a8923742",
   "metadata": {},
   "outputs": [],
   "source": []
  }
 ],
 "metadata": {
  "kernelspec": {
   "display_name": "Python 3 (ipykernel)",
   "language": "python",
   "name": "python3"
  },
  "language_info": {
   "codemirror_mode": {
    "name": "ipython",
    "version": 3
   },
   "file_extension": ".py",
   "mimetype": "text/x-python",
   "name": "python",
   "nbconvert_exporter": "python",
   "pygments_lexer": "ipython3",
   "version": "3.12.8"
  }
 },
 "nbformat": 4,
 "nbformat_minor": 5
}
